{
  "nbformat": 4,
  "nbformat_minor": 0,
  "metadata": {
    "colab": {
      "name": "DEFINITIVO-PPO-cartPole.ipynb",
      "provenance": [],
      "collapsed_sections": []
    },
    "kernelspec": {
      "display_name": "Python 3",
      "name": "python3"
    }
  },
  "cells": [
    {
      "cell_type": "markdown",
      "metadata": {
        "id": "hyyN-2qyK_T2"
      },
      "source": [
        "## Install Dependencies and Stable Baselines Using Pip\n",
        "\n",
        "List of full dependencies can be found in the [README](https://github.com/hill-a/stable-baselines).\n",
        "\n",
        "```\n",
        "sudo apt-get update && sudo apt-get install cmake libopenmpi-dev zlib1g-dev\n",
        "```\n",
        "\n",
        "\n",
        "```\n",
        "pip install stable-baselines[mpi]\n",
        "```"
      ]
    },
    {
      "cell_type": "code",
      "metadata": {
        "id": "nYz5-PWAFUa-",
        "colab": {
          "base_uri": "https://localhost:8080/"
        },
        "outputId": "bf511c87-1023-4a88-b565-3f0646fc9545"
      },
      "source": [
        "from google.colab import drive\n",
        "drive.mount('/content/drive')"
      ],
      "execution_count": 1,
      "outputs": [
        {
          "output_type": "stream",
          "text": [
            "Mounted at /content/drive\n"
          ],
          "name": "stdout"
        }
      ]
    },
    {
      "cell_type": "code",
      "metadata": {
        "colab": {
          "base_uri": "https://localhost:8080/"
        },
        "id": "2M0Xfo1JRukY",
        "outputId": "c61810ee-f72d-4e77-cf4c-41e39990db08"
      },
      "source": [
        "! pip install keras==2.3.1"
      ],
      "execution_count": 2,
      "outputs": [
        {
          "output_type": "stream",
          "text": [
            "Collecting keras==2.3.1\n",
            "\u001b[?25l  Downloading https://files.pythonhosted.org/packages/ad/fd/6bfe87920d7f4fd475acd28500a42482b6b84479832bdc0fe9e589a60ceb/Keras-2.3.1-py2.py3-none-any.whl (377kB)\n",
            "\r\u001b[K     |▉                               | 10kB 16.5MB/s eta 0:00:01\r\u001b[K     |█▊                              | 20kB 22.4MB/s eta 0:00:01\r\u001b[K     |██▋                             | 30kB 26.6MB/s eta 0:00:01\r\u001b[K     |███▌                            | 40kB 19.4MB/s eta 0:00:01\r\u001b[K     |████▍                           | 51kB 18.0MB/s eta 0:00:01\r\u001b[K     |█████▏                          | 61kB 20.0MB/s eta 0:00:01\r\u001b[K     |██████                          | 71kB 16.5MB/s eta 0:00:01\r\u001b[K     |███████                         | 81kB 14.2MB/s eta 0:00:01\r\u001b[K     |███████▉                        | 92kB 14.4MB/s eta 0:00:01\r\u001b[K     |████████▊                       | 102kB 13.2MB/s eta 0:00:01\r\u001b[K     |█████████▌                      | 112kB 13.2MB/s eta 0:00:01\r\u001b[K     |██████████▍                     | 122kB 13.2MB/s eta 0:00:01\r\u001b[K     |███████████▎                    | 133kB 13.2MB/s eta 0:00:01\r\u001b[K     |████████████▏                   | 143kB 13.2MB/s eta 0:00:01\r\u001b[K     |█████████████                   | 153kB 13.2MB/s eta 0:00:01\r\u001b[K     |█████████████▉                  | 163kB 13.2MB/s eta 0:00:01\r\u001b[K     |██████████████▊                 | 174kB 13.2MB/s eta 0:00:01\r\u001b[K     |███████████████▋                | 184kB 13.2MB/s eta 0:00:01\r\u001b[K     |████████████████▌               | 194kB 13.2MB/s eta 0:00:01\r\u001b[K     |█████████████████▍              | 204kB 13.2MB/s eta 0:00:01\r\u001b[K     |██████████████████▏             | 215kB 13.2MB/s eta 0:00:01\r\u001b[K     |███████████████████             | 225kB 13.2MB/s eta 0:00:01\r\u001b[K     |████████████████████            | 235kB 13.2MB/s eta 0:00:01\r\u001b[K     |████████████████████▉           | 245kB 13.2MB/s eta 0:00:01\r\u001b[K     |█████████████████████▊          | 256kB 13.2MB/s eta 0:00:01\r\u001b[K     |██████████████████████▌         | 266kB 13.2MB/s eta 0:00:01\r\u001b[K     |███████████████████████▍        | 276kB 13.2MB/s eta 0:00:01\r\u001b[K     |████████████████████████▎       | 286kB 13.2MB/s eta 0:00:01\r\u001b[K     |█████████████████████████▏      | 296kB 13.2MB/s eta 0:00:01\r\u001b[K     |██████████████████████████      | 307kB 13.2MB/s eta 0:00:01\r\u001b[K     |██████████████████████████▉     | 317kB 13.2MB/s eta 0:00:01\r\u001b[K     |███████████████████████████▊    | 327kB 13.2MB/s eta 0:00:01\r\u001b[K     |████████████████████████████▋   | 337kB 13.2MB/s eta 0:00:01\r\u001b[K     |█████████████████████████████▌  | 348kB 13.2MB/s eta 0:00:01\r\u001b[K     |██████████████████████████████▍ | 358kB 13.2MB/s eta 0:00:01\r\u001b[K     |███████████████████████████████▏| 368kB 13.2MB/s eta 0:00:01\r\u001b[K     |████████████████████████████████| 378kB 13.2MB/s \n",
            "\u001b[?25hRequirement already satisfied: six>=1.9.0 in /usr/local/lib/python3.6/dist-packages (from keras==2.3.1) (1.15.0)\n",
            "Requirement already satisfied: keras-preprocessing>=1.0.5 in /usr/local/lib/python3.6/dist-packages (from keras==2.3.1) (1.1.2)\n",
            "Requirement already satisfied: pyyaml in /usr/local/lib/python3.6/dist-packages (from keras==2.3.1) (3.13)\n",
            "Requirement already satisfied: numpy>=1.9.1 in /usr/local/lib/python3.6/dist-packages (from keras==2.3.1) (1.19.5)\n",
            "Collecting keras-applications>=1.0.6\n",
            "\u001b[?25l  Downloading https://files.pythonhosted.org/packages/71/e3/19762fdfc62877ae9102edf6342d71b28fbfd9dea3d2f96a882ce099b03f/Keras_Applications-1.0.8-py3-none-any.whl (50kB)\n",
            "\u001b[K     |████████████████████████████████| 51kB 7.7MB/s \n",
            "\u001b[?25hRequirement already satisfied: scipy>=0.14 in /usr/local/lib/python3.6/dist-packages (from keras==2.3.1) (1.4.1)\n",
            "Requirement already satisfied: h5py in /usr/local/lib/python3.6/dist-packages (from keras==2.3.1) (2.10.0)\n",
            "Installing collected packages: keras-applications, keras\n",
            "  Found existing installation: Keras 2.4.3\n",
            "    Uninstalling Keras-2.4.3:\n",
            "      Successfully uninstalled Keras-2.4.3\n",
            "Successfully installed keras-2.3.1 keras-applications-1.0.8\n"
          ],
          "name": "stdout"
        }
      ]
    },
    {
      "cell_type": "code",
      "metadata": {
        "id": "gWskDE2c9WoN",
        "colab": {
          "base_uri": "https://localhost:8080/"
        },
        "outputId": "7c85bdff-cccb-419e-958f-c13306c094de"
      },
      "source": [
        "# Stable Baselines only supports tensorflow 1.x for now\n",
        "#!pip install tensorflow==1.13.2\n",
        "%tensorflow_version 1.x\n",
        "!apt-get install ffmpeg freeglut3-dev xvfb  # For visualization\n",
        "!pip install stable-baselines[mpi]==2.10.0"
      ],
      "execution_count": 3,
      "outputs": [
        {
          "output_type": "stream",
          "text": [
            "TensorFlow 1.x selected.\n",
            "Reading package lists... Done\n",
            "Building dependency tree       \n",
            "Reading state information... Done\n",
            "freeglut3-dev is already the newest version (2.8.1-3).\n",
            "freeglut3-dev set to manually installed.\n",
            "ffmpeg is already the newest version (7:3.4.8-0ubuntu0.2).\n",
            "The following NEW packages will be installed:\n",
            "  xvfb\n",
            "0 upgraded, 1 newly installed, 0 to remove and 13 not upgraded.\n",
            "Need to get 784 kB of archives.\n",
            "After this operation, 2,270 kB of additional disk space will be used.\n",
            "Get:1 http://archive.ubuntu.com/ubuntu bionic-updates/universe amd64 xvfb amd64 2:1.19.6-1ubuntu4.8 [784 kB]\n",
            "Fetched 784 kB in 0s (6,990 kB/s)\n",
            "Selecting previously unselected package xvfb.\n",
            "(Reading database ... 146374 files and directories currently installed.)\n",
            "Preparing to unpack .../xvfb_2%3a1.19.6-1ubuntu4.8_amd64.deb ...\n",
            "Unpacking xvfb (2:1.19.6-1ubuntu4.8) ...\n",
            "Setting up xvfb (2:1.19.6-1ubuntu4.8) ...\n",
            "Processing triggers for man-db (2.8.3-2ubuntu0.1) ...\n",
            "Collecting stable-baselines[mpi]==2.10.0\n",
            "\u001b[?25l  Downloading https://files.pythonhosted.org/packages/e5/fe/db8159d4d79109c6c8942abe77c7ba6b6e008c32ae55870a35e73fa10db3/stable_baselines-2.10.0-py3-none-any.whl (248kB)\n",
            "\u001b[K     |████████████████████████████████| 256kB 12.1MB/s \n",
            "\u001b[?25hRequirement already satisfied: scipy in /usr/local/lib/python3.6/dist-packages (from stable-baselines[mpi]==2.10.0) (1.4.1)\n",
            "Requirement already satisfied: opencv-python in /usr/local/lib/python3.6/dist-packages (from stable-baselines[mpi]==2.10.0) (4.1.2.30)\n",
            "Requirement already satisfied: matplotlib in /usr/local/lib/python3.6/dist-packages (from stable-baselines[mpi]==2.10.0) (3.2.2)\n",
            "Requirement already satisfied: joblib in /usr/local/lib/python3.6/dist-packages (from stable-baselines[mpi]==2.10.0) (1.0.0)\n",
            "Requirement already satisfied: pandas in /usr/local/lib/python3.6/dist-packages (from stable-baselines[mpi]==2.10.0) (1.1.5)\n",
            "Requirement already satisfied: gym[atari,classic_control]>=0.11 in /usr/local/lib/python3.6/dist-packages (from stable-baselines[mpi]==2.10.0) (0.17.3)\n",
            "Requirement already satisfied: cloudpickle>=0.5.5 in /usr/local/lib/python3.6/dist-packages (from stable-baselines[mpi]==2.10.0) (1.3.0)\n",
            "Requirement already satisfied: numpy in /usr/local/lib/python3.6/dist-packages (from stable-baselines[mpi]==2.10.0) (1.19.5)\n",
            "Requirement already satisfied: mpi4py; extra == \"mpi\" in /tensorflow-1.15.2/python3.6 (from stable-baselines[mpi]==2.10.0) (3.0.3)\n",
            "Requirement already satisfied: kiwisolver>=1.0.1 in /usr/local/lib/python3.6/dist-packages (from matplotlib->stable-baselines[mpi]==2.10.0) (1.3.1)\n",
            "Requirement already satisfied: python-dateutil>=2.1 in /usr/local/lib/python3.6/dist-packages (from matplotlib->stable-baselines[mpi]==2.10.0) (2.8.1)\n",
            "Requirement already satisfied: pyparsing!=2.0.4,!=2.1.2,!=2.1.6,>=2.0.1 in /usr/local/lib/python3.6/dist-packages (from matplotlib->stable-baselines[mpi]==2.10.0) (2.4.7)\n",
            "Requirement already satisfied: cycler>=0.10 in /usr/local/lib/python3.6/dist-packages (from matplotlib->stable-baselines[mpi]==2.10.0) (0.10.0)\n",
            "Requirement already satisfied: pytz>=2017.2 in /usr/local/lib/python3.6/dist-packages (from pandas->stable-baselines[mpi]==2.10.0) (2018.9)\n",
            "Requirement already satisfied: pyglet<=1.5.0,>=1.4.0 in /usr/local/lib/python3.6/dist-packages (from gym[atari,classic_control]>=0.11->stable-baselines[mpi]==2.10.0) (1.5.0)\n",
            "Requirement already satisfied: Pillow; extra == \"atari\" in /usr/local/lib/python3.6/dist-packages (from gym[atari,classic_control]>=0.11->stable-baselines[mpi]==2.10.0) (7.0.0)\n",
            "Requirement already satisfied: atari-py~=0.2.0; extra == \"atari\" in /usr/local/lib/python3.6/dist-packages (from gym[atari,classic_control]>=0.11->stable-baselines[mpi]==2.10.0) (0.2.6)\n",
            "Requirement already satisfied: six>=1.5 in /usr/local/lib/python3.6/dist-packages (from python-dateutil>=2.1->matplotlib->stable-baselines[mpi]==2.10.0) (1.15.0)\n",
            "Requirement already satisfied: future in /usr/local/lib/python3.6/dist-packages (from pyglet<=1.5.0,>=1.4.0->gym[atari,classic_control]>=0.11->stable-baselines[mpi]==2.10.0) (0.16.0)\n",
            "Installing collected packages: stable-baselines\n",
            "  Found existing installation: stable-baselines 2.2.1\n",
            "    Uninstalling stable-baselines-2.2.1:\n",
            "      Successfully uninstalled stable-baselines-2.2.1\n",
            "Successfully installed stable-baselines-2.10.0\n"
          ],
          "name": "stdout"
        }
      ]
    },
    {
      "cell_type": "markdown",
      "metadata": {
        "id": "FtY8FhliLsGm"
      },
      "source": [
        "## Imports"
      ]
    },
    {
      "cell_type": "code",
      "metadata": {
        "id": "BIedd7Pz9sOs",
        "colab": {
          "base_uri": "https://localhost:8080/"
        },
        "outputId": "ea5d3afb-b775-4c80-e0cc-0d9480145270"
      },
      "source": [
        "import gym\n",
        "import pickle\n",
        "#import torch as th\n",
        "#import torch.nn as nn\n",
        "import os\n",
        "import time\n",
        "\n",
        "import stable_baselines\n",
        "stable_baselines.__version__\n",
        "from stable_baselines import PPO2\n",
        "from stable_baselines.common.callbacks import BaseCallback"
      ],
      "execution_count": 4,
      "outputs": [
        {
          "output_type": "stream",
          "text": [
            "WARNING:tensorflow:\n",
            "The TensorFlow contrib module will not be included in TensorFlow 2.0.\n",
            "For more information, please see:\n",
            "  * https://github.com/tensorflow/community/blob/master/rfcs/20180907-contrib-sunset.md\n",
            "  * https://github.com/tensorflow/addons\n",
            "  * https://github.com/tensorflow/io (for I/O related ops)\n",
            "If you depend on functionality not listed there, please file an issue.\n",
            "\n"
          ],
          "name": "stdout"
        }
      ]
    },
    {
      "cell_type": "markdown",
      "metadata": {
        "id": "vEm7jCLTfEcA"
      },
      "source": [
        "## Limpando pastas locais"
      ]
    },
    {
      "cell_type": "code",
      "metadata": {
        "id": "Hgt4Aor9fDR2"
      },
      "source": [
        "#!rm -rf logs\n",
        "#!rm -rf results\n",
        "#!rm -rf videos"
      ],
      "execution_count": 5,
      "outputs": []
    },
    {
      "cell_type": "markdown",
      "metadata": {
        "id": "GZ1C-0-9yLOu"
      },
      "source": [
        "## Resolvendo os problemas da seed"
      ]
    },
    {
      "cell_type": "code",
      "metadata": {
        "id": "OwwVTebUyKKH"
      },
      "source": [
        "seed_value = 12345\n",
        "\n",
        "# 1. Set `PYTHONHASHSEED` environment variable at a fixed value\n",
        "import os\n",
        "os.environ['PYTHONHASHSEED']=str(seed_value)\n",
        "#seed_value += 1\n",
        "\n",
        "# 2. Set `python` built-in pseudo-random generator at a fixed value\n",
        "import random\n",
        "random.seed(seed_value)\n",
        "#seed_value += 1\n",
        "\n",
        "# 3. Set `numpy` pseudo-random generator at a fixed value\n",
        "import numpy as np\n",
        "np.random.seed(seed_value)\n",
        "#seed_value += 1\n",
        "\n",
        "# 4. Set `tensorflow` pseudo-random generator at a fixed value\n",
        "import tensorflow as tf\n",
        "tf.set_random_seed(seed_value)\n",
        "\n",
        "\n",
        "\n",
        "# 5. Configure a new global `tensorflow` session\n",
        "session_conf = tf.ConfigProto(intra_op_parallelism_threads=1, inter_op_parallelism_threads=1)\n",
        "sess = tf.Session(graph=tf.get_default_graph(), config=session_conf)\n",
        "tf.keras.backend.set_session(sess)"
      ],
      "execution_count": 6,
      "outputs": []
    },
    {
      "cell_type": "markdown",
      "metadata": {
        "id": "xzl0tME0Xt93"
      },
      "source": [
        "## Parâmetros e paths"
      ]
    },
    {
      "cell_type": "code",
      "metadata": {
        "id": "qREKHyLvXv5v"
      },
      "source": [
        "# AQUI\n",
        "agent = 'PPO-cartPole'\n",
        "enviroment = 'CartPole-v1'\n",
        "\n",
        "timestr = time.strftime(\"%Y%m%d-%H%M%S\")\n",
        "\n",
        "experiment_name = agent + '_' + timestr\n",
        "\n",
        "os.makedirs(experiment_name)\n",
        "\n",
        "results_path = experiment_name + '/results_' + experiment_name\n",
        "logdir = experiment_name + '/logs_' + experiment_name\n",
        "videodir = experiment_name + '/videos_' + experiment_name\n",
        "\n",
        "os.makedirs(results_path)\n",
        "os.makedirs(logdir)\n",
        "os.makedirs(videodir)\n",
        "\n",
        "\n",
        "param_model = {\n",
        "    'max_grad_norm': 0.5, \n",
        "    'lam': 0.95, \n",
        "    'cliprange': 0.2, \n",
        "    'cliprange_vf': None,\n",
        "    'vf_coef':0.5,\n",
        "    'learning_rate':0.00025,\n",
        "    'ent_coef': 0.01,\n",
        "    'n_steps': 128,\n",
        "    'gamma': 0.99,\n",
        "    'noptepochs': 30,\n",
        "    'nminibatches': 4,\n",
        "    'verbose': 1, \n",
        "    'seed': seed_value, \n",
        "    'n_cpu_tf_sess': 1\n",
        "    }\n",
        "\n",
        "param_learning = {\n",
        "    'total_timesteps': 6000,\n",
        "    'callback': None,\n",
        "    'log_interval': 10\n",
        "}\n",
        "\n",
        "\n",
        "log = {**param_model, **param_learning}\n",
        "\n"
      ],
      "execution_count": 7,
      "outputs": []
    },
    {
      "cell_type": "markdown",
      "metadata": {
        "id": "Fc3GeyoEjCCD"
      },
      "source": [
        "## Implementação de callbacks e evaluate"
      ]
    },
    {
      "cell_type": "code",
      "metadata": {
        "id": "yEXj4MrXIvr1"
      },
      "source": [
        "import matplotlib.pyplot as plt\n",
        "import numpy as np\n",
        "\n",
        "def evaluate(model, num_episodes=100):\n",
        "    \"\"\"\n",
        "    Evaluate a RL agent\n",
        "    :param model: (BaseRLModel object) the RL Agent\n",
        "    :param num_episodes: (int) number of episodes to evaluate it\n",
        "    :return: (float) Mean reward for the last num_episodes\n",
        "    \"\"\"\n",
        "    # This function will only work for a single Environment\n",
        "    env = model.get_env()\n",
        "    all_episode_rewards = []\n",
        "    win = 0\n",
        "    loss = 0\n",
        "    for i in range(num_episodes):\n",
        "        #print(f'episode {i}')\n",
        "        episode_rewards = []\n",
        "        done = False\n",
        "        lives = 0\n",
        "        obs = env.reset()\n",
        "        while not done:\n",
        "            # _states are only useful when using LSTM policies\n",
        "            action, _states = model.predict(obs, deterministic = True)\n",
        "            # here, action, rewards and dones are arrays\n",
        "            # because we are using vectorized env\n",
        "            obs, reward, done, info = env.step(action)\n",
        "            episode_rewards.append(reward)\n",
        "             \n",
        "        all_episode_rewards.append(sum(episode_rewards))\n",
        "        if (all_episode_rewards[-1] >= 350):\n",
        "          win += 1\n",
        "        else:\n",
        "          loss += 1 \n",
        "\n",
        "        #print(f'reward total: {all_episode_rewards[-1]}')\n",
        "    mean_episode_reward = np.mean(all_episode_rewards)\n",
        "    print(\"Mean reward:\", mean_episode_reward, \"Num episodes:\", num_episodes)\n",
        "  \n",
        "    return all_episode_rewards, win, loss"
      ],
      "execution_count": 8,
      "outputs": []
    },
    {
      "cell_type": "markdown",
      "metadata": {
        "id": "cBHntE8Lrk5T"
      },
      "source": [
        "## Políticas customizadas aqui"
      ]
    },
    {
      "cell_type": "code",
      "metadata": {
        "id": "lAOWPweZroek"
      },
      "source": [
        "import tensorflow as tf\n",
        "\n",
        "net_simple = [32, 32, 32]\n",
        "\n",
        "net_medium = [64, 64, 64]\n",
        "\n",
        "net_complex = [128, dict(pi=[32, 32], vf=[32, 32])]\n",
        "\n",
        "##### MUDAR A POLITICA AQUI - opcoes: net_complex e net_simple\n",
        "net_use = net_complex\n",
        "\n",
        "\n",
        "param_model['policy_kwargs'] = dict(act_fun=tf.nn.tanh, net_arch=net_use)\n",
        "\n",
        "log['activation_fun'] = 'tanh'\n",
        "log['net_arch'] = net_use\n",
        "policy_name = 'MlpPolicy'   "
      ],
      "execution_count": 9,
      "outputs": []
    },
    {
      "cell_type": "code",
      "metadata": {
        "id": "prDQY1pkrkOA"
      },
      "source": [
        ""
      ],
      "execution_count": 9,
      "outputs": []
    },
    {
      "cell_type": "markdown",
      "metadata": {
        "id": "GAxAkx87DRi9"
      },
      "source": [
        "## Model and Train"
      ]
    },
    {
      "cell_type": "code",
      "metadata": {
        "id": "cR6MsNoZYLqz",
        "colab": {
          "base_uri": "https://localhost:8080/",
          "height": 842
        },
        "outputId": "575eee06-4c82-40ce-9d81-da8161deb815"
      },
      "source": [
        "import matplotlib.pyplot as plt\n",
        "from stable_baselines.common.callbacks import EvalCallback, StopTrainingOnRewardThreshold\n",
        "import time\n",
        "\n",
        "env = gym.make(enviroment)\n",
        "env.seed(seed_value)\n",
        "\n",
        "eval_env = gym.make(enviroment)\n",
        "env.seed(seed_value)\n",
        "\n",
        "callback_on_best = StopTrainingOnRewardThreshold(reward_threshold=500, verbose=1)\n",
        "best_model_path = os.path.join(results_path, 'best_model')\n",
        "eval_callback = EvalCallback(eval_env, best_model_save_path=best_model_path,\n",
        "                             log_path=logdir, eval_freq=100,\n",
        "                             callback_on_new_best=callback_on_best,\n",
        "                             deterministic=True, render=False)\n",
        "\n",
        "param_learning['callback'] = eval_callback\n",
        "\n",
        "#PASSA O POLICY NAME  \n",
        "ppo_model = PPO2(policy_name, env, **param_model, tensorboard_log=logdir)\n",
        "\n",
        "ppo_model.set_random_seed(seed=seed_value)\n",
        "\n",
        "# Random Agent, before training\n",
        "all_episode_reward_before_train, win, loss = evaluate(ppo_model, num_episodes=100)\n",
        "\n",
        "log['all_reward_before_train'] = all_episode_reward_before_train\n",
        "\n",
        "plt.plot(all_episode_reward_before_train)\n",
        "plt.ylabel('Reward')\n",
        "plt.xlabel('Game')\n",
        "plt.title('Episode x Reward')\n",
        "plt.ylim(0, 600)\n",
        "plt.show()"
      ],
      "execution_count": 10,
      "outputs": [
        {
          "output_type": "stream",
          "text": [
            "Wrapping the env in a DummyVecEnv.\n",
            "WARNING:tensorflow:From /usr/local/lib/python3.6/dist-packages/stable_baselines/common/policies.py:116: The name tf.variable_scope is deprecated. Please use tf.compat.v1.variable_scope instead.\n",
            "\n",
            "WARNING:tensorflow:From /usr/local/lib/python3.6/dist-packages/stable_baselines/common/input.py:25: The name tf.placeholder is deprecated. Please use tf.compat.v1.placeholder instead.\n",
            "\n",
            "WARNING:tensorflow:From /usr/local/lib/python3.6/dist-packages/stable_baselines/common/policies.py:561: flatten (from tensorflow.python.layers.core) is deprecated and will be removed in a future version.\n",
            "Instructions for updating:\n",
            "Use keras.layers.flatten instead.\n",
            "WARNING:tensorflow:From /tensorflow-1.15.2/python3.6/tensorflow_core/python/layers/core.py:332: Layer.apply (from tensorflow.python.keras.engine.base_layer) is deprecated and will be removed in a future version.\n",
            "Instructions for updating:\n",
            "Please use `layer.__call__` method instead.\n",
            "WARNING:tensorflow:From /usr/local/lib/python3.6/dist-packages/stable_baselines/common/tf_layers.py:123: The name tf.get_variable is deprecated. Please use tf.compat.v1.get_variable instead.\n",
            "\n",
            "WARNING:tensorflow:From /usr/local/lib/python3.6/dist-packages/stable_baselines/common/distributions.py:326: The name tf.random_uniform is deprecated. Please use tf.random.uniform instead.\n",
            "\n",
            "WARNING:tensorflow:From /usr/local/lib/python3.6/dist-packages/stable_baselines/common/distributions.py:327: The name tf.log is deprecated. Please use tf.math.log instead.\n",
            "\n",
            "WARNING:tensorflow:From /usr/local/lib/python3.6/dist-packages/stable_baselines/ppo2/ppo2.py:190: The name tf.summary.scalar is deprecated. Please use tf.compat.v1.summary.scalar instead.\n",
            "\n",
            "WARNING:tensorflow:From /usr/local/lib/python3.6/dist-packages/stable_baselines/ppo2/ppo2.py:198: The name tf.trainable_variables is deprecated. Please use tf.compat.v1.trainable_variables instead.\n",
            "\n",
            "WARNING:tensorflow:From /tensorflow-1.15.2/python3.6/tensorflow_core/python/ops/math_grad.py:1424: where (from tensorflow.python.ops.array_ops) is deprecated and will be removed in a future version.\n",
            "Instructions for updating:\n",
            "Use tf.where in 2.0, which has the same broadcast rule as np.where\n",
            "WARNING:tensorflow:From /usr/local/lib/python3.6/dist-packages/stable_baselines/ppo2/ppo2.py:206: The name tf.train.AdamOptimizer is deprecated. Please use tf.compat.v1.train.AdamOptimizer instead.\n",
            "\n",
            "WARNING:tensorflow:From /usr/local/lib/python3.6/dist-packages/stable_baselines/ppo2/ppo2.py:240: The name tf.global_variables_initializer is deprecated. Please use tf.compat.v1.global_variables_initializer instead.\n",
            "\n",
            "WARNING:tensorflow:From /usr/local/lib/python3.6/dist-packages/stable_baselines/ppo2/ppo2.py:242: The name tf.summary.merge_all is deprecated. Please use tf.compat.v1.summary.merge_all instead.\n",
            "\n",
            "Mean reward: 32.46 Num episodes: 100\n"
          ],
          "name": "stdout"
        },
        {
          "output_type": "display_data",
          "data": {
            "image/png": "[encoded data removed]",
            "text/plain": [
              "<Figure size 432x288 with 1 Axes>"
            ]
          },
          "metadata": {
            "tags": [],
            "needs_background": "light"
          }
        }
      ]
    },
    {
      "cell_type": "code",
      "metadata": {
        "id": "pUWGZp3i9wyf",
        "colab": {
          "base_uri": "https://localhost:8080/"
        },
        "outputId": "d9795ae2-c020-453d-d2f3-233a3bb884f1"
      },
      "source": [
        "\n",
        "#### Treina\n",
        "start_time = time.time()\n",
        "ppo_model.learn(**param_learning)\n",
        "log['time'] = (time.time() - start_time) \n",
        "print('Fininsh --- %s seconds --- ' % log['time'])\n"
      ],
      "execution_count": 11,
      "outputs": [
        {
          "output_type": "stream",
          "text": [
            "WARNING:tensorflow:From /usr/local/lib/python3.6/dist-packages/stable_baselines/common/base_class.py:1143: The name tf.summary.FileWriter is deprecated. Please use tf.compat.v1.summary.FileWriter instead.\n",
            "\n",
            "Eval num_timesteps=100, episode_reward=28.60 +/- 11.84\n",
            "Episode length: 28.60 +/- 11.84\n",
            "New best mean reward!\n",
            "WARNING:tensorflow:From /usr/local/lib/python3.6/dist-packages/stable_baselines/common/tf_util.py:502: The name tf.Summary is deprecated. Please use tf.compat.v1.Summary instead.\n",
            "\n",
            "------------------------------------\n",
            "| approxkl           | 0.006662807 |\n",
            "| clipfrac           | 0.090885416 |\n",
            "| explained_variance | -0.0158     |\n",
            "| fps                | 147         |\n",
            "| n_updates          | 1           |\n",
            "| policy_entropy     | 0.6869145   |\n",
            "| policy_loss        | -0.02128842 |\n",
            "| serial_timesteps   | 128         |\n",
            "| time_elapsed       | 2.74e-05    |\n",
            "| total_timesteps    | 128         |\n",
            "| value_loss         | 45.545734   |\n",
            "------------------------------------\n",
            "Eval num_timesteps=200, episode_reward=72.60 +/- 21.17\n",
            "Episode length: 72.60 +/- 21.17\n",
            "New best mean reward!\n",
            "Eval num_timesteps=300, episode_reward=57.80 +/- 15.20\n",
            "Episode length: 57.80 +/- 15.20\n",
            "Eval num_timesteps=400, episode_reward=170.20 +/- 66.14\n",
            "Episode length: 170.20 +/- 66.14\n",
            "New best mean reward!\n",
            "Eval num_timesteps=500, episode_reward=345.00 +/- 88.87\n",
            "Episode length: 345.00 +/- 88.87\n",
            "New best mean reward!\n",
            "Eval num_timesteps=600, episode_reward=165.60 +/- 58.91\n",
            "Episode length: 165.60 +/- 58.91\n",
            "Eval num_timesteps=700, episode_reward=151.20 +/- 49.00\n",
            "Episode length: 151.20 +/- 49.00\n",
            "Eval num_timesteps=800, episode_reward=149.40 +/- 28.79\n",
            "Episode length: 149.40 +/- 28.79\n",
            "Eval num_timesteps=900, episode_reward=162.60 +/- 41.54\n",
            "Episode length: 162.60 +/- 41.54\n",
            "Eval num_timesteps=1000, episode_reward=222.00 +/- 109.56\n",
            "Episode length: 222.00 +/- 109.56\n",
            "Eval num_timesteps=1100, episode_reward=136.60 +/- 23.03\n",
            "Episode length: 136.60 +/- 23.03\n",
            "Eval num_timesteps=1200, episode_reward=183.20 +/- 39.15\n",
            "Episode length: 183.20 +/- 39.15\n",
            "-------------------------------------\n",
            "| approxkl           | 0.006079643  |\n",
            "| clipfrac           | 0.054166667  |\n",
            "| explained_variance | 0.139        |\n",
            "| fps                | 141          |\n",
            "| n_updates          | 10           |\n",
            "| policy_entropy     | 0.6140335    |\n",
            "| policy_loss        | -0.013834515 |\n",
            "| serial_timesteps   | 1280         |\n",
            "| time_elapsed       | 8.55         |\n",
            "| total_timesteps    | 1280         |\n",
            "| value_loss         | 100.718315   |\n",
            "-------------------------------------\n",
            "Eval num_timesteps=1300, episode_reward=116.20 +/- 10.36\n",
            "Episode length: 116.20 +/- 10.36\n",
            "Eval num_timesteps=1400, episode_reward=120.40 +/- 5.99\n",
            "Episode length: 120.40 +/- 5.99\n",
            "Eval num_timesteps=1500, episode_reward=158.20 +/- 15.10\n",
            "Episode length: 158.20 +/- 15.10\n",
            "Eval num_timesteps=1600, episode_reward=155.60 +/- 9.22\n",
            "Episode length: 155.60 +/- 9.22\n",
            "Eval num_timesteps=1700, episode_reward=156.80 +/- 3.49\n",
            "Episode length: 156.80 +/- 3.49\n",
            "Eval num_timesteps=1800, episode_reward=185.60 +/- 16.86\n",
            "Episode length: 185.60 +/- 16.86\n",
            "Eval num_timesteps=1900, episode_reward=191.00 +/- 14.52\n",
            "Episode length: 191.00 +/- 14.52\n",
            "Eval num_timesteps=2000, episode_reward=237.60 +/- 11.53\n",
            "Episode length: 237.60 +/- 11.53\n",
            "Eval num_timesteps=2100, episode_reward=245.80 +/- 27.30\n",
            "Episode length: 245.80 +/- 27.30\n",
            "Eval num_timesteps=2200, episode_reward=279.40 +/- 18.92\n",
            "Episode length: 279.40 +/- 18.92\n",
            "Eval num_timesteps=2300, episode_reward=276.20 +/- 18.43\n",
            "Episode length: 276.20 +/- 18.43\n",
            "Eval num_timesteps=2400, episode_reward=295.00 +/- 36.77\n",
            "Episode length: 295.00 +/- 36.77\n",
            "Eval num_timesteps=2500, episode_reward=478.40 +/- 33.31\n",
            "Episode length: 478.40 +/- 33.31\n",
            "New best mean reward!\n",
            "-------------------------------------\n",
            "| approxkl           | 0.0055064755 |\n",
            "| clipfrac           | 0.07578125   |\n",
            "| explained_variance | 0.0155       |\n",
            "| fps                | 70           |\n",
            "| n_updates          | 20           |\n",
            "| policy_entropy     | 0.58184206   |\n",
            "| policy_loss        | -0.011776938 |\n",
            "| serial_timesteps   | 2560         |\n",
            "| time_elapsed       | 19.9         |\n",
            "| total_timesteps    | 2560         |\n",
            "| value_loss         | 91.46099     |\n",
            "-------------------------------------\n",
            "Eval num_timesteps=2600, episode_reward=397.00 +/- 86.50\n",
            "Episode length: 397.00 +/- 86.50\n",
            "Eval num_timesteps=2700, episode_reward=278.00 +/- 30.74\n",
            "Episode length: 278.00 +/- 30.74\n",
            "Eval num_timesteps=2800, episode_reward=292.40 +/- 59.54\n",
            "Episode length: 292.40 +/- 59.54\n",
            "Eval num_timesteps=2900, episode_reward=232.00 +/- 7.59\n",
            "Episode length: 232.00 +/- 7.59\n",
            "Eval num_timesteps=3000, episode_reward=264.40 +/- 13.31\n",
            "Episode length: 264.40 +/- 13.31\n",
            "Eval num_timesteps=3100, episode_reward=363.80 +/- 11.09\n",
            "Episode length: 363.80 +/- 11.09\n",
            "Eval num_timesteps=3200, episode_reward=357.00 +/- 10.90\n",
            "Episode length: 357.00 +/- 10.90\n",
            "Eval num_timesteps=3300, episode_reward=500.00 +/- 0.00\n",
            "Episode length: 500.00 +/- 0.00\n",
            "New best mean reward!\n",
            "Stopping training because the mean reward 500.00  is above the threshold 500\n",
            "Fininsh --- 31.831493616104126 seconds --- \n"
          ],
          "name": "stdout"
        }
      ]
    },
    {
      "cell_type": "markdown",
      "metadata": {
        "id": "ic07IU4bLAjo"
      },
      "source": [
        "## Avaliando o agente treinado"
      ]
    },
    {
      "cell_type": "code",
      "metadata": {
        "id": "vwMs0n9PLo1q",
        "colab": {
          "base_uri": "https://localhost:8080/",
          "height": 346
        },
        "outputId": "b6349477-e729-4eb4-e427-5967ac46da94"
      },
      "source": [
        "log['rewards'], log['win'], log['loss']  = evaluate(ppo_model, num_episodes=100)\n",
        "log['mean'] = np.mean(log['rewards'])\n",
        "log['std'] = np.std(log['rewards'])\n",
        "\n",
        "plt.plot(log['rewards'])\n",
        "plt.ylabel('Reward')\n",
        "plt.xlabel('Game')\n",
        "plt.title('Episode x Reward')\n",
        "plt.ylim(0, 600)\n",
        "plt.show()\n",
        "\n",
        "print(\"Mean reward:\", log['mean'], \"Std reward:\", log['std'])\n",
        "print(\"win:\", log['win'], \"loss:\", log['loss'])\n"
      ],
      "execution_count": 12,
      "outputs": [
        {
          "output_type": "stream",
          "text": [
            "Mean reward: 500.0 Num episodes: 100\n"
          ],
          "name": "stdout"
        },
        {
          "output_type": "display_data",
          "data": {
            "image/png": "[encoded data removed]",
            "text/plain": [
              "<Figure size 432x288 with 1 Axes>"
            ]
          },
          "metadata": {
            "tags": [],
            "needs_background": "light"
          }
        },
        {
          "output_type": "stream",
          "text": [
            "Mean reward: 500.0 Std reward: 0.0\n",
            "win: 100 loss: 0\n"
          ],
          "name": "stdout"
        }
      ]
    },
    {
      "cell_type": "markdown",
      "metadata": {
        "id": "Y-PDcR_hC3LG"
      },
      "source": [
        "## Funções auxiliares para video\n"
      ]
    },
    {
      "cell_type": "code",
      "metadata": {
        "id": "2ss2zmw2C-qA"
      },
      "source": [
        "# Set up fake display; otherwise rendering will fail\n",
        "import os\n",
        "os.system(\"Xvfb :1 -screen 0 1024x768x24 &\")\n",
        "os.environ['DISPLAY'] = ':1'"
      ],
      "execution_count": 13,
      "outputs": []
    },
    {
      "cell_type": "code",
      "metadata": {
        "id": "SLzXxO8VMD6N"
      },
      "source": [
        "import base64\n",
        "from pathlib import Path\n",
        "\n",
        "from IPython import display as ipythondisplay\n",
        "\n",
        "def show_videos(video_path='', name=''):\n",
        "  \"\"\"\n",
        "  Taken from https://github.com/eleurent/highway-env\n",
        "\n",
        "  :param video_path: (str) Path to the folder containing videos\n",
        "  :param prefix: (str) Filter the video, showing only the only starting with this prefix\n",
        "  \"\"\"\n",
        "  html = []\n",
        "  for mp4 in Path(video_path).glob(\"{}*.mp4\".format(name)):\n",
        "      video_b64 = base64.b64encode(mp4.read_bytes())\n",
        "      html.append('''<video alt=\"{}\" autoplay \n",
        "                    loop controls style=\"height: 400px;\">\n",
        "                    <source src=\"data:video/mp4;base64,{}\" type=\"video/mp4\" />\n",
        "                </video>'''.format(mp4, video_b64.decode('ascii')))\n",
        "  ipythondisplay.display(ipythondisplay.HTML(data=\"<br>\".join(html)))"
      ],
      "execution_count": 14,
      "outputs": []
    },
    {
      "cell_type": "code",
      "metadata": {
        "id": "Trag9dQpOIhx"
      },
      "source": [
        "from stable_baselines.common.vec_env import VecVideoRecorder, DummyVecEnv\n",
        "\n",
        "def record_video(env_id, model, video_length=1000, prefix='', video_folder= videodir):\n",
        "  \"\"\"\n",
        "  :param env_id: (str)\n",
        "  :param model: (RL model)\n",
        "  :param video_length: (int)\n",
        "  :param prefix: (str)\n",
        "  :param video_folder: (str)\n",
        "  \"\"\"\n",
        "  eval_env = DummyVecEnv([lambda: gym.make(enviroment)])\n",
        "  # Start the video at step=0 and record X steps\n",
        "  eval_env = VecVideoRecorder(eval_env, video_folder=video_folder,\n",
        "                              record_video_trigger=lambda step: step == 0, video_length=video_length,\n",
        "                              name_prefix=prefix)\n",
        "\n",
        "  obs = eval_env.reset()\n",
        "  for _ in range(video_length):\n",
        "    action, _ = model.predict(obs)\n",
        "    obs, _, _, _ = eval_env.step(action)\n",
        "\n",
        "  # Close the video recorder\n",
        "  eval_env.close()"
      ],
      "execution_count": 15,
      "outputs": []
    },
    {
      "cell_type": "markdown",
      "metadata": {
        "id": "xVm9QPNVwKXN"
      },
      "source": [
        "### Visualizando o agente treinado"
      ]
    },
    {
      "cell_type": "code",
      "metadata": {
        "id": "X00RNGyoV28r"
      },
      "source": [
        "def save_log(log, agent, path, experiment_name):\n",
        "  #path = os.path.abspath(os.getcwd())\n",
        "  #path = os.path.join(path, 'results')\n",
        "  print('Save log in %s ' % path)\n",
        "  #timestr = time.strftime(\"%Y%m%d-%H%M%S\")\n",
        "  name_file = experiment_name + '.pkl'\n",
        "  name_file = os.path.join(path, name_file)\n",
        "  if not os.path.exists(path):\n",
        "      os.makedirs(path)\n",
        "  a_file = open(name_file, \"wb\")\n",
        "  pickle.dump(log, a_file)\n",
        "  a_file.close()\n",
        "\n",
        "  name_file = experiment_name\n",
        "  #salvando o video\n",
        "  record_video(enviroment, ppo_model, video_length=6000, prefix=name_file, video_folder=videodir)\n",
        "  print('video - Saving local')\n",
        "  #mostrando o video salvo\n",
        "  show_videos(videodir, name=name_file)\n"
      ],
      "execution_count": 16,
      "outputs": []
    },
    {
      "cell_type": "code",
      "metadata": {
        "id": "gcbR6W6F-7T6",
        "colab": {
          "base_uri": "https://localhost:8080/"
        },
        "outputId": "32a65311-584f-4b89-b51e-2337aed095b9"
      },
      "source": [
        "save_log(log, agent, results_path, experiment_name)"
      ],
      "execution_count": null,
      "outputs": [
        {
          "output_type": "stream",
          "text": [
            "Save log in PPO-cartPole_20210125-184944/results_PPO-cartPole_20210125-184944 \n"
          ],
          "name": "stdout"
        }
      ]
    },
    {
      "cell_type": "markdown",
      "metadata": {
        "id": "QGBgBLIqRZEB"
      },
      "source": [
        "## TensorBoard"
      ]
    },
    {
      "cell_type": "code",
      "metadata": {
        "id": "eTH3Sh9CRbab"
      },
      "source": [
        "%load_ext tensorboard"
      ],
      "execution_count": null,
      "outputs": []
    },
    {
      "cell_type": "code",
      "metadata": {
        "id": "kIf0AMRoUggQ"
      },
      "source": [
        "%tensorboard --logdir \"$experiment_name\"/logs_\"$experiment_name\""
      ],
      "execution_count": null,
      "outputs": []
    },
    {
      "cell_type": "code",
      "metadata": {
        "id": "TIQpuYVTRxK9"
      },
      "source": [
        "!cp -r \"$experiment_name\" /content/drive/MyDrive/T2_ReinforcementLearning/Results/"
      ],
      "execution_count": null,
      "outputs": []
    },
    {
      "cell_type": "code",
      "metadata": {
        "id": "A-RRihPqRthN"
      },
      "source": [
        "#!tensorboard dev upload \\\n",
        "#  --logdir logs \\\n",
        "#  --name \"(optional) My latest experiment\" \\\n",
        "#  --description \"(optional) Simple comparison of several hyperparameters\" \\\n",
        "#  --one_shot"
      ],
      "execution_count": null,
      "outputs": []
    }
  ]
}