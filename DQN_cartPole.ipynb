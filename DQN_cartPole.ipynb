{
  "nbformat": 4,
  "nbformat_minor": 0,
  "metadata": {
    "colab": {
      "name": "DEFINITIVO-DQN-cartPole.ipynb",
      "provenance": [],
      "collapsed_sections": []
    },
    "kernelspec": {
      "display_name": "Python 3",
      "name": "python3"
    }
  },
  "cells": [
    {
      "cell_type": "markdown",
      "metadata": {
        "id": "hyyN-2qyK_T2"
      },
      "source": [
        "## Install Dependencies and Stable Baselines Using Pip\n",
        "\n",
        "List of full dependencies can be found in the [README](https://github.com/hill-a/stable-baselines).\n",
        "\n",
        "```\n",
        "sudo apt-get update && sudo apt-get install cmake libopenmpi-dev zlib1g-dev\n",
        "```\n",
        "\n",
        "\n",
        "```\n",
        "pip install stable-baselines[mpi]\n",
        "```"
      ]
    },
    {
      "cell_type": "code",
      "metadata": {
        "id": "nYz5-PWAFUa-",
        "colab": {
          "base_uri": "https://localhost:8080/"
        },
        "outputId": "6988b4c4-982a-4164-823c-f213876002c9"
      },
      "source": [
        "from google.colab import drive\n",
        "drive.mount('/content/drive')"
      ],
      "execution_count": 22,
      "outputs": [
        {
          "output_type": "stream",
          "text": [
            "Drive already mounted at /content/drive; to attempt to forcibly remount, call drive.mount(\"/content/drive\", force_remount=True).\n"
          ],
          "name": "stdout"
        }
      ]
    },
    {
      "cell_type": "code",
      "metadata": {
        "id": "2M0Xfo1JRukY"
      },
      "source": [
        "#! pip install keras==2.3.1"
      ],
      "execution_count": 23,
      "outputs": []
    },
    {
      "cell_type": "code",
      "metadata": {
        "id": "gWskDE2c9WoN",
        "colab": {
          "base_uri": "https://localhost:8080/"
        },
        "outputId": "1983a1e9-d394-45f5-c1f8-fe0912a00816"
      },
      "source": [
        "# Stable Baselines only supports tensorflow 1.x for now\n",
        "#!pip install tensorflow==1.15.0\n",
        "%tensorflow_version 1.x\n",
        "!apt-get install ffmpeg freeglut3-dev xvfb  # For visualization\n",
        "!pip install stable-baselines[mpi]==2.10.0"
      ],
      "execution_count": 24,
      "outputs": [
        {
          "output_type": "stream",
          "text": [
            "Reading package lists... Done\n",
            "Building dependency tree       \n",
            "Reading state information... Done\n",
            "freeglut3-dev is already the newest version (2.8.1-3).\n",
            "ffmpeg is already the newest version (7:3.4.8-0ubuntu0.2).\n",
            "xvfb is already the newest version (2:1.19.6-1ubuntu4.8).\n",
            "0 upgraded, 0 newly installed, 0 to remove and 13 not upgraded.\n",
            "Requirement already satisfied: stable-baselines[mpi]==2.10.0 in /usr/local/lib/python3.6/dist-packages (2.10.0)\n",
            "Requirement already satisfied: joblib in /usr/local/lib/python3.6/dist-packages (from stable-baselines[mpi]==2.10.0) (1.0.0)\n",
            "Requirement already satisfied: opencv-python in /usr/local/lib/python3.6/dist-packages (from stable-baselines[mpi]==2.10.0) (4.1.2.30)\n",
            "Requirement already satisfied: gym[atari,classic_control]>=0.11 in /usr/local/lib/python3.6/dist-packages (from stable-baselines[mpi]==2.10.0) (0.17.3)\n",
            "Requirement already satisfied: numpy in /usr/local/lib/python3.6/dist-packages (from stable-baselines[mpi]==2.10.0) (1.19.5)\n",
            "Requirement already satisfied: cloudpickle>=0.5.5 in /usr/local/lib/python3.6/dist-packages (from stable-baselines[mpi]==2.10.0) (1.3.0)\n",
            "Requirement already satisfied: matplotlib in /usr/local/lib/python3.6/dist-packages (from stable-baselines[mpi]==2.10.0) (3.2.2)\n",
            "Requirement already satisfied: pandas in /usr/local/lib/python3.6/dist-packages (from stable-baselines[mpi]==2.10.0) (1.1.5)\n",
            "Requirement already satisfied: scipy in /usr/local/lib/python3.6/dist-packages (from stable-baselines[mpi]==2.10.0) (1.4.1)\n",
            "Requirement already satisfied: mpi4py; extra == \"mpi\" in /tensorflow-1.15.2/python3.6 (from stable-baselines[mpi]==2.10.0) (3.0.3)\n",
            "Requirement already satisfied: pyglet<=1.5.0,>=1.4.0 in /usr/local/lib/python3.6/dist-packages (from gym[atari,classic_control]>=0.11->stable-baselines[mpi]==2.10.0) (1.5.0)\n",
            "Requirement already satisfied: Pillow; extra == \"atari\" in /usr/local/lib/python3.6/dist-packages (from gym[atari,classic_control]>=0.11->stable-baselines[mpi]==2.10.0) (7.0.0)\n",
            "Requirement already satisfied: atari-py~=0.2.0; extra == \"atari\" in /usr/local/lib/python3.6/dist-packages (from gym[atari,classic_control]>=0.11->stable-baselines[mpi]==2.10.0) (0.2.6)\n",
            "Requirement already satisfied: pyparsing!=2.0.4,!=2.1.2,!=2.1.6,>=2.0.1 in /usr/local/lib/python3.6/dist-packages (from matplotlib->stable-baselines[mpi]==2.10.0) (2.4.7)\n",
            "Requirement already satisfied: cycler>=0.10 in /usr/local/lib/python3.6/dist-packages (from matplotlib->stable-baselines[mpi]==2.10.0) (0.10.0)\n",
            "Requirement already satisfied: kiwisolver>=1.0.1 in /usr/local/lib/python3.6/dist-packages (from matplotlib->stable-baselines[mpi]==2.10.0) (1.3.1)\n",
            "Requirement already satisfied: python-dateutil>=2.1 in /usr/local/lib/python3.6/dist-packages (from matplotlib->stable-baselines[mpi]==2.10.0) (2.8.1)\n",
            "Requirement already satisfied: pytz>=2017.2 in /usr/local/lib/python3.6/dist-packages (from pandas->stable-baselines[mpi]==2.10.0) (2018.9)\n",
            "Requirement already satisfied: future in /usr/local/lib/python3.6/dist-packages (from pyglet<=1.5.0,>=1.4.0->gym[atari,classic_control]>=0.11->stable-baselines[mpi]==2.10.0) (0.16.0)\n",
            "Requirement already satisfied: six in /usr/local/lib/python3.6/dist-packages (from atari-py~=0.2.0; extra == \"atari\"->gym[atari,classic_control]>=0.11->stable-baselines[mpi]==2.10.0) (1.15.0)\n"
          ],
          "name": "stdout"
        }
      ]
    },
    {
      "cell_type": "markdown",
      "metadata": {
        "id": "FtY8FhliLsGm"
      },
      "source": [
        "## Imports"
      ]
    },
    {
      "cell_type": "code",
      "metadata": {
        "id": "BIedd7Pz9sOs"
      },
      "source": [
        "import gym\n",
        "import pickle\n",
        "import torch as th\n",
        "import torch.nn as nn\n",
        "import os\n",
        "import time\n",
        "\n",
        "import stable_baselines\n",
        "stable_baselines.__version__\n",
        "from stable_baselines import DQN\n",
        "#from stable_baselines.common.callbacks import BaseCallback"
      ],
      "execution_count": 25,
      "outputs": []
    },
    {
      "cell_type": "markdown",
      "metadata": {
        "id": "G6YssoP-WiRa"
      },
      "source": [
        "## Resolvendo os problemas da seed"
      ]
    },
    {
      "cell_type": "code",
      "metadata": {
        "id": "4hlEzo8VWhm0"
      },
      "source": [
        "seed_value = 12345\n",
        "\n",
        "# 1. Set `PYTHONHASHSEED` environment variable at a fixed value\n",
        "import os\n",
        "os.environ['PYTHONHASHSEED']=str(seed_value)\n",
        "#seed_value += 1\n",
        "\n",
        "# 2. Set `python` built-in pseudo-random generator at a fixed value\n",
        "import random\n",
        "random.seed(seed_value)\n",
        "#seed_value += 1\n",
        "\n",
        "# 3. Set `numpy` pseudo-random generator at a fixed value\n",
        "import numpy as np\n",
        "np.random.seed(seed_value)\n",
        "#seed_value += 1\n",
        "\n",
        "# 4. Set `tensorflow` pseudo-random generator at a fixed value\n",
        "import tensorflow as tf\n",
        "tf.set_random_seed(seed_value)\n",
        "\n",
        "\n",
        "\n",
        "# 5. Configure a new global `tensorflow` session\n",
        "session_conf = tf.ConfigProto(intra_op_parallelism_threads=1, inter_op_parallelism_threads=1)\n",
        "sess = tf.Session(graph=tf.get_default_graph(), config=session_conf)\n",
        "tf.keras.backend.set_session(sess)\n"
      ],
      "execution_count": 26,
      "outputs": []
    },
    {
      "cell_type": "markdown",
      "metadata": {
        "id": "vEm7jCLTfEcA"
      },
      "source": [
        "## Limpando pastas locais"
      ]
    },
    {
      "cell_type": "code",
      "metadata": {
        "id": "Hgt4Aor9fDR2"
      },
      "source": [
        "#!rm -rf logs\n",
        "#!rm -rf results\n",
        "#!rm -rf videos"
      ],
      "execution_count": 27,
      "outputs": []
    },
    {
      "cell_type": "markdown",
      "metadata": {
        "id": "xzl0tME0Xt93"
      },
      "source": [
        "## Parâmetros e paths"
      ]
    },
    {
      "cell_type": "code",
      "metadata": {
        "id": "qREKHyLvXv5v"
      },
      "source": [
        "# AQUI\n",
        "agent = 'DQN-cartPole'\n",
        "enviroment = 'CartPole-v1'\n",
        "\n",
        "timestr = time.strftime(\"%Y%m%d-%H%M%S\")\n",
        "\n",
        "experiment_name = agent + '_' + timestr\n",
        "\n",
        "os.makedirs(experiment_name)\n",
        "\n",
        "results_path = experiment_name + '/results_' + experiment_name\n",
        "logdir = experiment_name + '/logs_' + experiment_name\n",
        "videodir = experiment_name + '/videos_' + experiment_name\n",
        "\n",
        "os.makedirs(results_path)\n",
        "os.makedirs(logdir)\n",
        "os.makedirs(videodir)\n",
        "\n",
        "\n",
        "\n",
        "param_model = {\n",
        "    'double_q': False, \n",
        "    'prioritized_replay': False,\n",
        "    'gamma': 0.99,\n",
        "    'learning_rate': 0.0005,\n",
        "    'buffer_size': 100000,\n",
        "    'exploration_fraction': 0.1, \n",
        "    'exploration_final_eps': 0.02,\n",
        "    'exploration_initial_eps': 0.1,\n",
        "    'target_network_update_freq': 500,\n",
        "    'prioritized_replay_alpha': 0.6,\n",
        "    'prioritized_replay_beta0': 0.4,\n",
        "    'prioritized_replay_beta_iters':None,\n",
        "    'prioritized_replay_eps': 1e-06,\n",
        "    'param_noise': False,\n",
        "    'learning_starts': 1000,\n",
        "    'batch_size': 32,\n",
        "    'train_freq': 1,\n",
        "    'policy_kwargs': None,\n",
        "    'verbose': 1,\n",
        "    'seed': seed_value,\n",
        "    'n_cpu_tf_sess': 1 \n",
        "    }\n",
        "\n",
        "param_learning = {\n",
        "    'total_timesteps': 10000,\n",
        "    'callback': None,\n",
        "    'log_interval': 10\n",
        "}\n",
        "\n",
        "\n",
        "log = {**param_model, **param_learning}\n",
        "\n",
        "param_model['policy_kwargs'] = dict(dueling=False)\n"
      ],
      "execution_count": 28,
      "outputs": []
    },
    {
      "cell_type": "markdown",
      "metadata": {
        "id": "Fc3GeyoEjCCD"
      },
      "source": [
        "## Implementação de callbacks e evaluate"
      ]
    },
    {
      "cell_type": "code",
      "metadata": {
        "id": "yEXj4MrXIvr1"
      },
      "source": [
        "import matplotlib.pyplot as plt\n",
        "import numpy as np\n",
        "\n",
        "def evaluate(model, num_episodes=100):\n",
        "    \"\"\"\n",
        "    Evaluate a RL agent\n",
        "    :param model: (BaseRLModel object) the RL Agent\n",
        "    :param num_episodes: (int) number of episodes to evaluate it\n",
        "    :return: (float) Mean reward for the last num_episodes\n",
        "    \"\"\"\n",
        "    # This function will only work for a single Environment\n",
        "    env = model.get_env()\n",
        "    all_episode_rewards = []\n",
        "    win = 0\n",
        "    loss = 0\n",
        "    for i in range(num_episodes):\n",
        "        #print(f'episode {i}')\n",
        "        episode_rewards = []\n",
        "        done = False\n",
        "        lives = 0\n",
        "        obs = env.reset()\n",
        "        while not done:\n",
        "            # _states are only useful when using LSTM policies\n",
        "            action, _states = model.predict(obs, deterministic=True)\n",
        "            # here, action, rewards and dones are arrays\n",
        "            # because we are using vectorized env\n",
        "            obs, reward, done, info = env.step(action)\n",
        "            episode_rewards.append(reward)\n",
        "             \n",
        "        all_episode_rewards.append(sum(episode_rewards))\n",
        "        if (all_episode_rewards[-1] >= 350):\n",
        "          win += 1\n",
        "        else:\n",
        "          loss += 1 \n",
        "\n",
        "        #print(f'reward total: {all_episode_rewards[-1]}')\n",
        "    mean_episode_reward = np.mean(all_episode_rewards)\n",
        "    print(\"Mean reward:\", mean_episode_reward, \"Num episodes:\", num_episodes)\n",
        "  \n",
        "    return all_episode_rewards, win, loss"
      ],
      "execution_count": 29,
      "outputs": []
    },
    {
      "cell_type": "markdown",
      "metadata": {
        "id": "cBHntE8Lrk5T"
      },
      "source": [
        "## Políticas customizadas aqui"
      ]
    },
    {
      "cell_type": "code",
      "metadata": {
        "id": "lAOWPweZroek"
      },
      "source": [
        "from stable_baselines.deepq.policies import FeedForwardPolicy\n",
        "\n",
        "class simpleMLP(FeedForwardPolicy):\n",
        "    def __init__(self, *args, **kwargs):\n",
        "        super(simpleMLP, self).__init__(*args, **kwargs,\n",
        "                                           layers=[32, 32],\n",
        "                                           layer_norm=False,\n",
        "                                           feature_extraction=\"mlp\")\n",
        "        \n",
        "class mediumMLP(FeedForwardPolicy):\n",
        "    def __init__(self, *args, **kwargs):\n",
        "        super(mediumMLP, self).__init__(*args, **kwargs,\n",
        "                                           layers=[128, 64],\n",
        "                                           layer_norm=False,\n",
        "                                           feature_extraction=\"mlp\")\n",
        "\n",
        "class normMLP(FeedForwardPolicy):\n",
        "    def __init__(self, *args, **kwargs):\n",
        "        super(normMLP, self).__init__(*args, **kwargs,\n",
        "                                           layers=[64, 64],\n",
        "                                           layer_norm=True,\n",
        "                                           feature_extraction=\"mlp\",)  \n",
        "\n",
        "#AQUI ------ LEMBRAR DE COLOCAR O NOME DA FUNCAO OU DA POLITICA JA DEFINIDA PELA BIBLIOTECA \n",
        "policy_name = 'LnMlpPolicy'   #ESSA VARIAVEL TEM O NOME DA POLITICA QUE SERA USADA\n",
        "log['policy_name'] = policy_name\n"
      ],
      "execution_count": 30,
      "outputs": []
    },
    {
      "cell_type": "code",
      "metadata": {
        "id": "prDQY1pkrkOA"
      },
      "source": [
        ""
      ],
      "execution_count": 30,
      "outputs": []
    },
    {
      "cell_type": "markdown",
      "metadata": {
        "id": "GAxAkx87DRi9"
      },
      "source": [
        "## Model and Train"
      ]
    },
    {
      "cell_type": "code",
      "metadata": {
        "id": "cR6MsNoZYLqz",
        "colab": {
          "base_uri": "https://localhost:8080/",
          "height": 312
        },
        "outputId": "4326f993-253e-4f41-962a-dc08b77630eb"
      },
      "source": [
        "import matplotlib.pyplot as plt\n",
        "##ESSA\n",
        "from stable_baselines.common.callbacks import EvalCallback, StopTrainingOnRewardThreshold\n",
        "import time\n",
        "\n",
        "env = gym.make(enviroment)\n",
        "env.seed(seed_value)\n",
        "\n",
        "eval_env = gym.make(enviroment)\n",
        "env.seed(seed_value)\n",
        "\n",
        "\n",
        "\n",
        "best_model_path = os.path.join(results_path, 'best_model')\n",
        "#####ESSA\n",
        "callback_on_best = StopTrainingOnRewardThreshold(reward_threshold=500, verbose=1)\n",
        "####ESSA\n",
        "eval_callback = EvalCallback(eval_env, best_model_save_path=best_model_path,\n",
        "                             callback_on_new_best=callback_on_best,\n",
        "                             log_path=logdir, eval_freq=100,\n",
        "                             deterministic=True, render=False)\n",
        "\n",
        "param_learning['callback'] = eval_callback\n",
        "\n",
        "#PASSA O POLICY NAME OU O NOME DA FUNCAO: POLICY NAME APENAS SE JÁ FOR PADRAO \n",
        "dqn_model = DQN(policy_name, env, **param_model, tensorboard_log=logdir)\n",
        "#dqn_model = DQN(simpleMLP, env, **param_model, tensorboard_log=logdir)\n",
        "dqn_model.set_random_seed(seed=seed_value)\n",
        "\n",
        "# Random Agent, before training\n",
        "all_episode_reward_before_train, win, loss = evaluate(dqn_model, num_episodes=100)\n",
        "\n",
        "log['all_reward_before_train'] = all_episode_reward_before_train\n",
        "\n",
        "plt.plot(all_episode_reward_before_train)\n",
        "plt.ylabel('Reward')\n",
        "plt.xlabel('Game')\n",
        "plt.title('Episode x Reward')\n",
        "plt.ylim(0, 600)\n",
        "plt.show()"
      ],
      "execution_count": 31,
      "outputs": [
        {
          "output_type": "stream",
          "text": [
            "Mean reward: 11.57 Num episodes: 100\n"
          ],
          "name": "stdout"
        },
        {
          "output_type": "display_data",
          "data": {
            "image/png": "[encoded data removed]",
            "text/plain": [
              "<Figure size 432x288 with 1 Axes>"
            ]
          },
          "metadata": {
            "tags": [],
            "needs_background": "light"
          }
        }
      ]
    },
    {
      "cell_type": "code",
      "metadata": {
        "id": "pUWGZp3i9wyf",
        "colab": {
          "base_uri": "https://localhost:8080/"
        },
        "outputId": "3e9af590-7ba9-4ba3-8819-5e47b025e8c3"
      },
      "source": [
        "\n",
        "#### Treina\n",
        "start_time = time.time()\n",
        "dqn_model.learn(**param_learning)\n",
        "log['time'] = (time.time() - start_time) \n",
        "print('Fininsh --- %s seconds --- ' % log['time'])\n"
      ],
      "execution_count": 32,
      "outputs": [
        {
          "output_type": "stream",
          "text": [
            "/usr/local/lib/python3.6/dist-packages/stable_baselines/common/callbacks.py:277: UserWarning: Training and eval env are not of the same type<TimeLimit<CartPoleEnv<CartPole-v1>>> != <stable_baselines.common.vec_env.dummy_vec_env.DummyVecEnv object at 0x7fa945f62860>\n",
            "  \"{} != {}\".format(self.training_env, self.eval_env))\n"
          ],
          "name": "stderr"
        },
        {
          "output_type": "stream",
          "text": [
            "Eval num_timesteps=100, episode_reward=12.80 +/- 5.64\n",
            "Episode length: 12.80 +/- 5.64\n",
            "New best mean reward!\n",
            "--------------------------------------\n",
            "| % time spent exploring  | 9        |\n",
            "| episodes                | 10       |\n",
            "| mean 100 episode reward | 13.3     |\n",
            "| steps                   | 120      |\n",
            "--------------------------------------\n",
            "Eval num_timesteps=200, episode_reward=12.00 +/- 3.29\n",
            "Episode length: 12.00 +/- 3.29\n",
            "--------------------------------------\n",
            "| % time spent exploring  | 7        |\n",
            "| episodes                | 20       |\n",
            "| mean 100 episode reward | 13.5     |\n",
            "| steps                   | 257      |\n",
            "--------------------------------------\n",
            "Eval num_timesteps=300, episode_reward=11.80 +/- 2.23\n",
            "Episode length: 11.80 +/- 2.23\n",
            "--------------------------------------\n",
            "| % time spent exploring  | 6        |\n",
            "| episodes                | 30       |\n",
            "| mean 100 episode reward | 13.6     |\n",
            "| steps                   | 395      |\n",
            "--------------------------------------\n",
            "Eval num_timesteps=400, episode_reward=14.40 +/- 7.84\n",
            "Episode length: 14.40 +/- 7.84\n",
            "New best mean reward!\n",
            "Eval num_timesteps=500, episode_reward=13.00 +/- 3.79\n",
            "Episode length: 13.00 +/- 3.79\n",
            "--------------------------------------\n",
            "| % time spent exploring  | 5        |\n",
            "| episodes                | 40       |\n",
            "| mean 100 episode reward | 13.4     |\n",
            "| steps                   | 522      |\n",
            "--------------------------------------\n",
            "Eval num_timesteps=600, episode_reward=13.20 +/- 3.49\n",
            "Episode length: 13.20 +/- 3.49\n",
            "--------------------------------------\n",
            "| % time spent exploring  | 4        |\n",
            "| episodes                | 50       |\n",
            "| mean 100 episode reward | 13.1     |\n",
            "| steps                   | 640      |\n",
            "--------------------------------------\n",
            "Eval num_timesteps=700, episode_reward=10.40 +/- 0.80\n",
            "Episode length: 10.40 +/- 0.80\n",
            "--------------------------------------\n",
            "| % time spent exploring  | 3        |\n",
            "| episodes                | 60       |\n",
            "| mean 100 episode reward | 12.8     |\n",
            "| steps                   | 755      |\n",
            "--------------------------------------\n",
            "Eval num_timesteps=800, episode_reward=9.40 +/- 1.02\n",
            "Episode length: 9.40 +/- 1.02\n",
            "--------------------------------------\n",
            "| % time spent exploring  | 2        |\n",
            "| episodes                | 70       |\n",
            "| mean 100 episode reward | 12.9     |\n",
            "| steps                   | 893      |\n",
            "--------------------------------------\n",
            "Eval num_timesteps=900, episode_reward=11.60 +/- 2.06\n",
            "Episode length: 11.60 +/- 2.06\n",
            "Eval num_timesteps=1000, episode_reward=12.20 +/- 1.94\n",
            "Episode length: 12.20 +/- 1.94\n",
            "--------------------------------------\n",
            "| % time spent exploring  | 2        |\n",
            "| episodes                | 80       |\n",
            "| mean 100 episode reward | 12.8     |\n",
            "| steps                   | 1014     |\n",
            "--------------------------------------\n",
            "Eval num_timesteps=1100, episode_reward=9.40 +/- 0.80\n",
            "Episode length: 9.40 +/- 0.80\n",
            "--------------------------------------\n",
            "| % time spent exploring  | 2        |\n",
            "| episodes                | 90       |\n",
            "| mean 100 episode reward | 12.5     |\n",
            "| steps                   | 1111     |\n",
            "--------------------------------------\n",
            "Eval num_timesteps=1200, episode_reward=9.20 +/- 0.40\n",
            "Episode length: 9.20 +/- 0.40\n",
            "--------------------------------------\n",
            "| % time spent exploring  | 2        |\n",
            "| episodes                | 100      |\n",
            "| mean 100 episode reward | 12.2     |\n",
            "| steps                   | 1203     |\n",
            "--------------------------------------\n",
            "--------------------------------------\n",
            "| % time spent exploring  | 2        |\n",
            "| episodes                | 110      |\n",
            "| mean 100 episode reward | 11.8     |\n",
            "| steps                   | 1297     |\n",
            "--------------------------------------\n",
            "Eval num_timesteps=1300, episode_reward=9.00 +/- 0.63\n",
            "Episode length: 9.00 +/- 0.63\n",
            "--------------------------------------\n",
            "| % time spent exploring  | 2        |\n",
            "| episodes                | 120      |\n",
            "| mean 100 episode reward | 11.3     |\n",
            "| steps                   | 1392     |\n",
            "--------------------------------------\n",
            "Eval num_timesteps=1400, episode_reward=12.80 +/- 1.94\n",
            "Episode length: 12.80 +/- 1.94\n",
            "--------------------------------------\n",
            "| % time spent exploring  | 2        |\n",
            "| episodes                | 130      |\n",
            "| mean 100 episode reward | 10.9     |\n",
            "| steps                   | 1490     |\n",
            "--------------------------------------\n",
            "Eval num_timesteps=1500, episode_reward=9.60 +/- 0.49\n",
            "Episode length: 9.60 +/- 0.49\n",
            "--------------------------------------\n",
            "| % time spent exploring  | 2        |\n",
            "| episodes                | 140      |\n",
            "| mean 100 episode reward | 10.7     |\n",
            "| steps                   | 1587     |\n",
            "--------------------------------------\n",
            "Eval num_timesteps=1600, episode_reward=9.60 +/- 0.49\n",
            "Episode length: 9.60 +/- 0.49\n",
            "--------------------------------------\n",
            "| % time spent exploring  | 2        |\n",
            "| episodes                | 150      |\n",
            "| mean 100 episode reward | 10.4     |\n",
            "| steps                   | 1682     |\n",
            "--------------------------------------\n",
            "Eval num_timesteps=1700, episode_reward=9.20 +/- 0.75\n",
            "Episode length: 9.20 +/- 0.75\n",
            "--------------------------------------\n",
            "| % time spent exploring  | 2        |\n",
            "| episodes                | 160      |\n",
            "| mean 100 episode reward | 10.3     |\n",
            "| steps                   | 1781     |\n",
            "--------------------------------------\n",
            "Eval num_timesteps=1800, episode_reward=9.20 +/- 0.40\n",
            "Episode length: 9.20 +/- 0.40\n",
            "Eval num_timesteps=1900, episode_reward=17.60 +/- 1.96\n",
            "Episode length: 17.60 +/- 1.96\n",
            "New best mean reward!\n",
            "--------------------------------------\n",
            "| % time spent exploring  | 2        |\n",
            "| episodes                | 170      |\n",
            "| mean 100 episode reward | 10.3     |\n",
            "| steps                   | 1927     |\n",
            "--------------------------------------\n",
            "Eval num_timesteps=2000, episode_reward=9.80 +/- 0.40\n",
            "Episode length: 9.80 +/- 0.40\n",
            "--------------------------------------\n",
            "| % time spent exploring  | 2        |\n",
            "| episodes                | 180      |\n",
            "| mean 100 episode reward | 10.4     |\n",
            "| steps                   | 2050     |\n",
            "--------------------------------------\n",
            "Eval num_timesteps=2100, episode_reward=10.20 +/- 0.98\n",
            "Episode length: 10.20 +/- 0.98\n",
            "Eval num_timesteps=2200, episode_reward=11.00 +/- 1.10\n",
            "Episode length: 11.00 +/- 1.10\n",
            "--------------------------------------\n",
            "| % time spent exploring  | 2        |\n",
            "| episodes                | 190      |\n",
            "| mean 100 episode reward | 11.1     |\n",
            "| steps                   | 2220     |\n",
            "--------------------------------------\n",
            "Eval num_timesteps=2300, episode_reward=53.00 +/- 25.81\n",
            "Episode length: 53.00 +/- 25.81\n",
            "New best mean reward!\n",
            "Eval num_timesteps=2400, episode_reward=66.60 +/- 5.75\n",
            "Episode length: 66.60 +/- 5.75\n",
            "New best mean reward!\n",
            "--------------------------------------\n",
            "| % time spent exploring  | 2        |\n",
            "| episodes                | 200      |\n",
            "| mean 100 episode reward | 12.3     |\n",
            "| steps                   | 2430     |\n",
            "--------------------------------------\n",
            "Eval num_timesteps=2500, episode_reward=44.00 +/- 38.36\n",
            "Episode length: 44.00 +/- 38.36\n",
            "Eval num_timesteps=2600, episode_reward=90.60 +/- 25.50\n",
            "Episode length: 90.60 +/- 25.50\n",
            "New best mean reward!\n",
            "Eval num_timesteps=2700, episode_reward=76.40 +/- 17.12\n",
            "Episode length: 76.40 +/- 17.12\n",
            "Eval num_timesteps=2800, episode_reward=77.40 +/- 10.21\n",
            "Episode length: 77.40 +/- 10.21\n",
            "Eval num_timesteps=2900, episode_reward=30.40 +/- 10.31\n",
            "Episode length: 30.40 +/- 10.31\n",
            "Eval num_timesteps=3000, episode_reward=88.60 +/- 36.43\n",
            "Episode length: 88.60 +/- 36.43\n",
            "Eval num_timesteps=3100, episode_reward=211.40 +/- 49.60\n",
            "Episode length: 211.40 +/- 49.60\n",
            "New best mean reward!\n",
            "--------------------------------------\n",
            "| % time spent exploring  | 2        |\n",
            "| episodes                | 210      |\n",
            "| mean 100 episode reward | 18.5     |\n",
            "| steps                   | 3148     |\n",
            "--------------------------------------\n",
            "Eval num_timesteps=3200, episode_reward=254.80 +/- 79.96\n",
            "Episode length: 254.80 +/- 79.96\n",
            "New best mean reward!\n",
            "Eval num_timesteps=3300, episode_reward=309.40 +/- 78.11\n",
            "Episode length: 309.40 +/- 78.11\n",
            "New best mean reward!\n",
            "Eval num_timesteps=3400, episode_reward=268.20 +/- 197.12\n",
            "Episode length: 268.20 +/- 197.12\n",
            "Eval num_timesteps=3500, episode_reward=167.00 +/- 107.89\n",
            "Episode length: 167.00 +/- 107.89\n",
            "Eval num_timesteps=3600, episode_reward=305.20 +/- 123.24\n",
            "Episode length: 305.20 +/- 123.24\n",
            "Eval num_timesteps=3700, episode_reward=221.40 +/- 29.57\n",
            "Episode length: 221.40 +/- 29.57\n",
            "Eval num_timesteps=3800, episode_reward=289.00 +/- 81.72\n",
            "Episode length: 289.00 +/- 81.72\n",
            "Eval num_timesteps=3900, episode_reward=403.00 +/- 91.33\n",
            "Episode length: 403.00 +/- 91.33\n",
            "New best mean reward!\n",
            "Eval num_timesteps=4000, episode_reward=186.20 +/- 36.33\n",
            "Episode length: 186.20 +/- 36.33\n",
            "Eval num_timesteps=4100, episode_reward=402.00 +/- 44.44\n",
            "Episode length: 402.00 +/- 44.44\n",
            "Eval num_timesteps=4200, episode_reward=387.40 +/- 101.27\n",
            "Episode length: 387.40 +/- 101.27\n",
            "Eval num_timesteps=4300, episode_reward=298.40 +/- 127.61\n",
            "Episode length: 298.40 +/- 127.61\n",
            "Eval num_timesteps=4400, episode_reward=360.00 +/- 91.69\n",
            "Episode length: 360.00 +/- 91.69\n",
            "Eval num_timesteps=4500, episode_reward=425.20 +/- 113.52\n",
            "Episode length: 425.20 +/- 113.52\n",
            "New best mean reward!\n",
            "Eval num_timesteps=4600, episode_reward=114.80 +/- 21.75\n",
            "Episode length: 114.80 +/- 21.75\n",
            "Eval num_timesteps=4700, episode_reward=235.60 +/- 46.40\n",
            "Episode length: 235.60 +/- 46.40\n",
            "Eval num_timesteps=4800, episode_reward=251.20 +/- 17.27\n",
            "Episode length: 251.20 +/- 17.27\n",
            "Eval num_timesteps=4900, episode_reward=500.00 +/- 0.00\n",
            "Episode length: 500.00 +/- 0.00\n",
            "New best mean reward!\n",
            "Stopping training because the mean reward 500.00  is above the threshold 500\n",
            "Fininsh --- 39.21549463272095 seconds --- \n"
          ],
          "name": "stdout"
        }
      ]
    },
    {
      "cell_type": "markdown",
      "metadata": {
        "id": "ic07IU4bLAjo"
      },
      "source": [
        "## Avaliando o agente treinado"
      ]
    },
    {
      "cell_type": "code",
      "metadata": {
        "id": "vwMs0n9PLo1q",
        "colab": {
          "base_uri": "https://localhost:8080/",
          "height": 346
        },
        "outputId": "31be5b14-bf55-4b18-b1a6-63eaf7f74f46"
      },
      "source": [
        "log['rewards'], log['win'], log['loss']  = evaluate(dqn_model, num_episodes=100)\n",
        "log['mean'] = np.mean(log['rewards'])\n",
        "log['std'] = np.std(log['rewards'])\n",
        "\n",
        "plt.plot(log['rewards'])\n",
        "plt.ylabel('Reward')\n",
        "plt.xlabel('Game')\n",
        "plt.title('Episode x Reward')\n",
        "plt.ylim(0, 600)\n",
        "plt.show()\n",
        "\n",
        "print(\"Mean reward:\", log['mean'], \"Std reward:\", log['std'])\n",
        "print(\"win:\", log['win'], \"loss:\", log['loss'])\n"
      ],
      "execution_count": 33,
      "outputs": [
        {
          "output_type": "stream",
          "text": [
            "Mean reward: 500.0 Num episodes: 100\n"
          ],
          "name": "stdout"
        },
        {
          "output_type": "display_data",
          "data": {
            "image/png": "[encoded data removed]",
            "text/plain": [
              "<Figure size 432x288 with 1 Axes>"
            ]
          },
          "metadata": {
            "tags": [],
            "needs_background": "light"
          }
        },
        {
          "output_type": "stream",
          "text": [
            "Mean reward: 500.0 Std reward: 0.0\n",
            "win: 100 loss: 0\n"
          ],
          "name": "stdout"
        }
      ]
    },
    {
      "cell_type": "markdown",
      "metadata": {
        "id": "Y-PDcR_hC3LG"
      },
      "source": [
        "## Funções auxiliares para video\n"
      ]
    },
    {
      "cell_type": "code",
      "metadata": {
        "id": "2ss2zmw2C-qA"
      },
      "source": [
        "# Set up fake display; otherwise rendering will fail\n",
        "import os\n",
        "os.system(\"Xvfb :1 -screen 0 1024x768x24 &\")\n",
        "os.environ['DISPLAY'] = ':1'"
      ],
      "execution_count": 34,
      "outputs": []
    },
    {
      "cell_type": "code",
      "metadata": {
        "id": "SLzXxO8VMD6N"
      },
      "source": [
        "import base64\n",
        "from pathlib import Path\n",
        "\n",
        "from IPython import display as ipythondisplay\n",
        "\n",
        "def show_videos(video_path='', name=''):\n",
        "  \"\"\"\n",
        "  Taken from https://github.com/eleurent/highway-env\n",
        "\n",
        "  :param video_path: (str) Path to the folder containing videos\n",
        "  :param prefix: (str) Filter the video, showing only the only starting with this prefix\n",
        "  \"\"\"\n",
        "  html = []\n",
        "  for mp4 in Path(video_path).glob(\"{}*.mp4\".format(name)):\n",
        "      video_b64 = base64.b64encode(mp4.read_bytes())\n",
        "      html.append('''<video alt=\"{}\" autoplay \n",
        "                    loop controls style=\"height: 400px;\">\n",
        "                    <source src=\"data:video/mp4;base64,{}\" type=\"video/mp4\" />\n",
        "                </video>'''.format(mp4, video_b64.decode('ascii')))\n",
        "  ipythondisplay.display(ipythondisplay.HTML(data=\"<br>\".join(html)))"
      ],
      "execution_count": 35,
      "outputs": []
    },
    {
      "cell_type": "code",
      "metadata": {
        "id": "Trag9dQpOIhx"
      },
      "source": [
        "from stable_baselines.common.vec_env import VecVideoRecorder, DummyVecEnv\n",
        "\n",
        "def record_video(env_id, model, video_length=1000, prefix='', video_folder= videodir):\n",
        "  \"\"\"\n",
        "  :param env_id: (str)\n",
        "  :param model: (RL model)\n",
        "  :param video_length: (int)\n",
        "  :param prefix: (str)\n",
        "  :param video_folder: (str)\n",
        "  \"\"\"\n",
        "  eval_env = DummyVecEnv([lambda: gym.make(enviroment)])\n",
        "  # Start the video at step=0 and record X steps\n",
        "  eval_env = VecVideoRecorder(eval_env, video_folder=video_folder,\n",
        "                              record_video_trigger=lambda step: step == 0, video_length=video_length,\n",
        "                              name_prefix=prefix)\n",
        "\n",
        "  obs = eval_env.reset()\n",
        "  for _ in range(video_length):\n",
        "    action, _ = model.predict(obs)\n",
        "    obs, _, _, _ = eval_env.step(action)\n",
        "\n",
        "  # Close the video recorder\n",
        "  eval_env.close()"
      ],
      "execution_count": 36,
      "outputs": []
    },
    {
      "cell_type": "markdown",
      "metadata": {
        "id": "xVm9QPNVwKXN"
      },
      "source": [
        "### Visualizando o agente treinado"
      ]
    },
    {
      "cell_type": "code",
      "metadata": {
        "id": "X00RNGyoV28r"
      },
      "source": [
        "def save_log(log, agent, path, experiment_name):\n",
        "  #path = os.path.abspath(os.getcwd())\n",
        "  #path = os.path.join(path, 'results')\n",
        "  print('Save log in %s ' % path)\n",
        "  #timestr = time.strftime(\"%Y%m%d-%H%M%S\")\n",
        "  name_file = experiment_name + '.pkl'\n",
        "  name_file = os.path.join(path, name_file)\n",
        "  if not os.path.exists(path):\n",
        "      os.makedirs(path)\n",
        "  a_file = open(name_file, \"wb\")\n",
        "  pickle.dump(log, a_file)\n",
        "  a_file.close()\n",
        "\n",
        "  name_file = experiment_name\n",
        "  #salvando o video\n",
        "  record_video(enviroment, dqn_model, video_length=6000, prefix=name_file, video_folder=videodir)\n",
        "  print('video - Saving local')\n",
        "  #mostrando o video salvo\n",
        "  show_videos(videodir, name=name_file)\n"
      ],
      "execution_count": 37,
      "outputs": []
    },
    {
      "cell_type": "code",
      "metadata": {
        "id": "gcbR6W6F-7T6",
        "colab": {
          "base_uri": "https://localhost:8080/"
        },
        "outputId": "810c833a-cd20-4ad0-c109-f82c79986416"
      },
      "source": [
        "save_log(log, agent, results_path, experiment_name)"
      ],
      "execution_count": null,
      "outputs": [
        {
          "output_type": "stream",
          "text": [
            "Save log in DQN-cartPole_20210125-190415/results_DQN-cartPole_20210125-190415 \n"
          ],
          "name": "stdout"
        }
      ]
    },
    {
      "cell_type": "markdown",
      "metadata": {
        "id": "QGBgBLIqRZEB"
      },
      "source": [
        "## TensorBoard"
      ]
    },
    {
      "cell_type": "code",
      "metadata": {
        "id": "eTH3Sh9CRbab"
      },
      "source": [
        "%load_ext tensorboard"
      ],
      "execution_count": null,
      "outputs": []
    },
    {
      "cell_type": "code",
      "metadata": {
        "id": "kIf0AMRoUggQ"
      },
      "source": [
        "%tensorboard --logdir \"$experiment_name\"/logs_\"$experiment_name\""
      ],
      "execution_count": null,
      "outputs": []
    },
    {
      "cell_type": "code",
      "metadata": {
        "id": "TIQpuYVTRxK9"
      },
      "source": [
        "!cp -r \"$experiment_name\" /content/drive/MyDrive/T2_ReinforcementLearning/Results/"
      ],
      "execution_count": null,
      "outputs": []
    },
    {
      "cell_type": "code",
      "metadata": {
        "id": "A-RRihPqRthN"
      },
      "source": [
        "#!tensorboard dev upload \\\n",
        "#  --logdir logs \\\n",
        "#  --name \"(optional) My latest experiment\" \\\n",
        "#  --description \"(optional) Simple comparison of several hyperparameters\" \\\n",
        "#  --one_shot"
      ],
      "execution_count": null,
      "outputs": []
    }
  ]
}